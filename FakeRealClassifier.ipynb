{
 "cells": [
  {
   "cell_type": "code",
   "execution_count": 3,
   "metadata": {},
   "outputs": [],
   "source": [
    "import splitfolders\n",
    "import keras\n",
    "import matplotlib.pyplot as plt\n",
    "from keras.preprocessing.image import ImageDataGenerator\n",
    "from keras.callbacks import ModelCheckpoint, EarlyStopping\n",
    "from tensorflow.keras import datasets, layers, models\n",
    "import os\n",
    "import random\n",
    "import cv2\n",
    "import numpy as np\n",
    "from sklearn.metrics import confusion_matrix, classification_report"
   ]
  },
  {
   "cell_type": "code",
   "execution_count": 2,
   "metadata": {},
   "outputs": [
    {
     "name": "stderr",
     "output_type": "stream",
     "text": [
      "Copying files: 1002 files [00:00, 1247.49 files/s]\n"
     ]
    }
   ],
   "source": [
    "# split the dataset into (train, val, test)\n",
    "splitfolders.ratio(input = \"./Data\", output = \"./Output\", ratio = (0.7, 0.15, 0.15))"
   ]
  },
  {
   "cell_type": "code",
   "execution_count": 8,
   "metadata": {},
   "outputs": [],
   "source": [
    "# declare ImageDataGenerator objects\n",
    "train_datagen = ImageDataGenerator(rescale = 1./255)\n",
    "test_datagen = ImageDataGenerator(rescale = 1./255)"
   ]
  },
  {
   "cell_type": "code",
   "execution_count": 9,
   "metadata": {},
   "outputs": [
    {
     "name": "stdout",
     "output_type": "stream",
     "text": [
      "Found 701 images belonging to 2 classes.\n"
     ]
    }
   ],
   "source": [
    "# create generators\n",
    "train_generator = train_datagen.flow_from_directory(\"./Output/train\",\n",
    "                                                    target_size = (480,480),\n",
    "                                                    color_mode = \"grayscale\",\n",
    "                                                    batch_size = 4,\n",
    "                                                    class_mode = \"categorical\",\n",
    "                                                    shuffle = True)"
   ]
  },
  {
   "cell_type": "code",
   "execution_count": 10,
   "metadata": {},
   "outputs": [
    {
     "name": "stdout",
     "output_type": "stream",
     "text": [
      "Found 149 images belonging to 2 classes.\n"
     ]
    }
   ],
   "source": [
    "# create generators\n",
    "val_generator = train_datagen.flow_from_directory(\"./Output/val\",\n",
    "                                                    target_size = (480,480),\n",
    "                                                    color_mode = \"grayscale\",\n",
    "                                                    batch_size = 4,\n",
    "                                                    class_mode = \"categorical\",\n",
    "                                                    shuffle = True)"
   ]
  },
  {
   "cell_type": "code",
   "execution_count": 22,
   "metadata": {},
   "outputs": [
    {
     "name": "stdout",
     "output_type": "stream",
     "text": [
      "Found 152 images belonging to 2 classes.\n"
     ]
    }
   ],
   "source": [
    "# create generators\n",
    "test_generator = test_datagen.flow_from_directory(\"./Output/test\",\n",
    "                                                    target_size = (480,480),\n",
    "                                                    color_mode = \"grayscale\",\n",
    "                                                    batch_size = 4,\n",
    "                                                    class_mode = \"categorical\",\n",
    "                                                    shuffle = False)"
   ]
  },
  {
   "cell_type": "code",
   "execution_count": 7,
   "metadata": {},
   "outputs": [],
   "source": [
    "# callbacks\n",
    "es = EarlyStopping(monitor = \"val_loss\", patience = 3)\n",
    "mc = ModelCheckpoint(\"./best_model.h5\", save_best_only = True)"
   ]
  },
  {
   "cell_type": "code",
   "execution_count": 8,
   "metadata": {},
   "outputs": [],
   "source": [
    "# CNN Model - Same as Denzel's GreenRedClassifier\n",
    "model = models.Sequential()\n",
    "model.add(layers.Conv2D(32, (3,3), activation='relu', input_shape=(480,480,1)))\n",
    "model.add(layers.MaxPooling2D((2,2)))\n",
    "model.add(layers.Conv2D(64, (3,3), activation='relu'))\n",
    "model.add(layers.MaxPooling2D((2,2)))\n",
    "model.add(layers.Conv2D(64, (3,3), activation='relu'))\n",
    "model.add(layers.Flatten())\n",
    "model.add(layers.Dense(64, activation='relu'))\n",
    "model.add(layers.Dense(2, activation='softmax'))\n",
    "\n",
    "model.compile(optimizer='adam', loss='categorical_crossentropy', metrics=['accuracy'])"
   ]
  },
  {
   "cell_type": "code",
   "execution_count": 9,
   "metadata": {},
   "outputs": [
    {
     "name": "stdout",
     "output_type": "stream",
     "text": [
      "Epoch 1/50\n",
      "175/175 [==============================] - 15s 53ms/step - loss: 0.4159 - accuracy: 0.9555 - val_loss: 1.0864e-05 - val_accuracy: 1.0000\n",
      "Epoch 2/50\n",
      "175/175 [==============================] - 8s 48ms/step - loss: 4.1104e-06 - accuracy: 1.0000 - val_loss: 2.2891e-06 - val_accuracy: 1.0000\n",
      "Epoch 3/50\n",
      "175/175 [==============================] - 8s 48ms/step - loss: 1.5795e-06 - accuracy: 1.0000 - val_loss: 1.3153e-06 - val_accuracy: 1.0000\n",
      "Epoch 4/50\n",
      "175/175 [==============================] - 9s 50ms/step - loss: 1.0806e-06 - accuracy: 1.0000 - val_loss: 9.5689e-07 - val_accuracy: 1.0000\n",
      "Epoch 5/50\n",
      "175/175 [==============================] - 9s 49ms/step - loss: 8.6131e-07 - accuracy: 1.0000 - val_loss: 7.7728e-07 - val_accuracy: 1.0000\n",
      "Epoch 6/50\n",
      "175/175 [==============================] - 9s 49ms/step - loss: 7.0722e-07 - accuracy: 1.0000 - val_loss: 6.2907e-07 - val_accuracy: 1.0000\n",
      "Epoch 7/50\n",
      "175/175 [==============================] - 9s 50ms/step - loss: 5.9194e-07 - accuracy: 1.0000 - val_loss: 5.2758e-07 - val_accuracy: 1.0000\n",
      "Epoch 8/50\n",
      "175/175 [==============================] - 9s 49ms/step - loss: 4.8641e-07 - accuracy: 1.0000 - val_loss: 4.3334e-07 - val_accuracy: 1.0000\n",
      "Epoch 9/50\n",
      "175/175 [==============================] - 9s 49ms/step - loss: 4.1167e-07 - accuracy: 1.0000 - val_loss: 3.5763e-07 - val_accuracy: 1.0000\n",
      "Epoch 10/50\n",
      "175/175 [==============================] - 9s 49ms/step - loss: 3.0752e-07 - accuracy: 1.0000 - val_loss: 2.1345e-07 - val_accuracy: 1.0000\n",
      "Epoch 11/50\n",
      "175/175 [==============================] - 8s 48ms/step - loss: 1.2827e-07 - accuracy: 1.0000 - val_loss: 7.4909e-08 - val_accuracy: 1.0000\n",
      "Epoch 12/50\n",
      "175/175 [==============================] - 8s 48ms/step - loss: 4.9770e-08 - accuracy: 1.0000 - val_loss: 3.2219e-08 - val_accuracy: 1.0000\n",
      "Epoch 13/50\n",
      "175/175 [==============================] - 9s 49ms/step - loss: 2.3431e-08 - accuracy: 1.0000 - val_loss: 2.0137e-08 - val_accuracy: 1.0000\n",
      "Epoch 14/50\n",
      "175/175 [==============================] - 9s 49ms/step - loss: 1.6590e-08 - accuracy: 1.0000 - val_loss: 1.4498e-08 - val_accuracy: 1.0000\n",
      "Epoch 15/50\n",
      "175/175 [==============================] - 9s 49ms/step - loss: 8.8937e-09 - accuracy: 1.0000 - val_loss: 8.8601e-09 - val_accuracy: 1.0000\n",
      "Epoch 16/50\n",
      "175/175 [==============================] - 9s 49ms/step - loss: 6.4992e-09 - accuracy: 1.0000 - val_loss: 1.6109e-09 - val_accuracy: 1.0000\n",
      "Epoch 17/50\n",
      "175/175 [==============================] - 7s 43ms/step - loss: 4.6179e-09 - accuracy: 1.0000 - val_loss: 7.2492e-09 - val_accuracy: 1.0000\n",
      "Epoch 18/50\n",
      "175/175 [==============================] - 9s 49ms/step - loss: 4.7889e-09 - accuracy: 1.0000 - val_loss: 8.0547e-10 - val_accuracy: 1.0000\n",
      "Epoch 19/50\n",
      "175/175 [==============================] - 7s 42ms/step - loss: 4.4468e-09 - accuracy: 1.0000 - val_loss: 8.8601e-09 - val_accuracy: 1.0000\n",
      "Epoch 20/50\n",
      "175/175 [==============================] - 7s 42ms/step - loss: 4.2758e-09 - accuracy: 1.0000 - val_loss: 1.0471e-08 - val_accuracy: 1.0000\n",
      "Epoch 21/50\n",
      "175/175 [==============================] - 7s 43ms/step - loss: 4.1048e-09 - accuracy: 1.0000 - val_loss: 1.6109e-09 - val_accuracy: 1.0000\n"
     ]
    }
   ],
   "source": [
    "fit = model.fit(train_generator,\n",
    "                steps_per_epoch = train_generator.samples // 4,\n",
    "                validation_data = val_generator,\n",
    "                validation_steps = val_generator.samples // 4,\n",
    "                epochs = 50,\n",
    "                callbacks = [es, mc])"
   ]
  },
  {
   "cell_type": "code",
   "execution_count": 10,
   "metadata": {},
   "outputs": [
    {
     "data": {
      "text/plain": [
       "[<matplotlib.lines.Line2D at 0x1d537f32a60>]"
      ]
     },
     "execution_count": 10,
     "metadata": {},
     "output_type": "execute_result"
    },
    {
     "data": {
      "image/png": "[encoded data removed]",
      "text/plain": [
       "<Figure size 432x288 with 1 Axes>"
      ]
     },
     "metadata": {
      "needs_background": "light"
     },
     "output_type": "display_data"
    }
   ],
   "source": [
    "plt.plot(fit.epoch, fit.history[\"loss\"])\n",
    "plt.plot(fit.epoch, fit.history[\"val_loss\"], color = \"orange\")"
   ]
  },
  {
   "cell_type": "code",
   "execution_count": 11,
   "metadata": {},
   "outputs": [
    {
     "data": {
      "text/plain": [
       "[<matplotlib.lines.Line2D at 0x1d53abbb100>]"
      ]
     },
     "execution_count": 11,
     "metadata": {},
     "output_type": "execute_result"
    },
    {
     "data": {
      "image/png": "[encoded data removed]",
      "text/plain": [
       "<Figure size 432x288 with 1 Axes>"
      ]
     },
     "metadata": {
      "needs_background": "light"
     },
     "output_type": "display_data"
    }
   ],
   "source": [
    "plt.plot(fit.epoch, fit.history[\"accuracy\"])\n",
    "plt.plot(fit.epoch, fit.history[\"val_accuracy\"], color = \"orange\")"
   ]
  },
  {
   "cell_type": "code",
   "execution_count": 1,
   "metadata": {},
   "outputs": [],
   "source": [
    "from tensorflow.compat.v1 import ConfigProto\n",
    "from tensorflow.compat.v1 import InteractiveSession\n",
    "\n",
    "config = ConfigProto()\n",
    "config.gpu_options.allow_growth = True\n",
    "session = InteractiveSession(config=config)"
   ]
  },
  {
   "cell_type": "code",
   "execution_count": 4,
   "metadata": {},
   "outputs": [],
   "source": [
    "# load trained model\n",
    "model = keras.models.load_model('best_model.h5')"
   ]
  },
  {
   "cell_type": "code",
   "execution_count": 23,
   "metadata": {},
   "outputs": [
    {
     "name": "stdout",
     "output_type": "stream",
     "text": [
      "38/38 [==============================] - 1s 20ms/step\n"
     ]
    }
   ],
   "source": [
    "# make preds\n",
    "preds = model.predict(test_generator)"
   ]
  },
  {
   "cell_type": "code",
   "execution_count": 19,
   "metadata": {},
   "outputs": [
    {
     "data": {
      "text/plain": [
       "{'Fake': 0, 'Real': 1}"
      ]
     },
     "execution_count": 19,
     "metadata": {},
     "output_type": "execute_result"
    }
   ],
   "source": [
    "test_generator.class_indices"
   ]
  },
  {
   "cell_type": "code",
   "execution_count": 13,
   "metadata": {},
   "outputs": [
    {
     "data": {
      "text/plain": [
       "array([0, 0, 0, 0, 0, 0, 0, 0, 0, 0, 0, 0, 0, 0, 0, 0, 0, 0, 0, 0, 0, 0,\n",
       "       0, 0, 0, 0, 0, 0, 0, 0, 0, 0, 0, 0, 0, 0, 0, 0, 0, 0, 0, 0, 0, 0,\n",
       "       0, 0, 0, 0, 0, 0, 0, 0, 0, 0, 0, 0, 0, 0, 0, 0, 0, 0, 0, 0, 0, 0,\n",
       "       0, 0, 0, 0, 0, 0, 0, 0, 0, 0, 0, 0, 0, 0, 0, 0, 0, 0, 0, 0, 0, 0,\n",
       "       0, 0, 0, 0, 0, 1, 1, 1, 1, 1, 1, 1, 1, 1, 1, 1, 1, 1, 1, 1, 1, 1,\n",
       "       1, 1, 1, 1, 1, 1, 1, 1, 1, 1, 1, 1, 1, 1, 1, 1, 1, 1, 1, 1, 1, 1,\n",
       "       1, 1, 1, 1, 1, 1, 1, 1, 1, 1, 1, 1, 1, 1, 1, 1, 1, 1, 1, 1],\n",
       "      dtype=int64)"
      ]
     },
     "execution_count": 13,
     "metadata": {},
     "output_type": "execute_result"
    }
   ],
   "source": [
    "preds = np.argmax(preds, axis = 1)\n",
    "preds"
   ]
  },
  {
   "cell_type": "code",
   "execution_count": 14,
   "metadata": {},
   "outputs": [
    {
     "data": {
      "text/plain": [
       "array([[93,  0],\n",
       "       [ 0, 59]], dtype=int64)"
      ]
     },
     "execution_count": 14,
     "metadata": {},
     "output_type": "execute_result"
    }
   ],
   "source": [
    "confusion_matrix(test_generator.classes, preds)"
   ]
  },
  {
   "cell_type": "code",
   "execution_count": 15,
   "metadata": {},
   "outputs": [
    {
     "name": "stdout",
     "output_type": "stream",
     "text": [
      "              precision    recall  f1-score   support\n",
      "\n",
      "           0       1.00      1.00      1.00        93\n",
      "           1       1.00      1.00      1.00        59\n",
      "\n",
      "    accuracy                           1.00       152\n",
      "   macro avg       1.00      1.00      1.00       152\n",
      "weighted avg       1.00      1.00      1.00       152\n",
      "\n"
     ]
    }
   ],
   "source": [
    "print(classification_report(test_generator.classes, preds))"
   ]
  }
 ],
 "metadata": {
  "interpreter": {
   "hash": "ffccbc9ccb5938b2afb9480be95841746dfc44398ca5b5846991377d9a54e213"
  },
  "kernelspec": {
   "display_name": "Python 3.8.10 64-bit",
   "language": "python",
   "name": "python3"
  },
  "language_info": {
   "codemirror_mode": {
    "name": "ipython",
    "version": 3
   },
   "file_extension": ".py",
   "mimetype": "text/x-python",
   "name": "python",
   "nbconvert_exporter": "python",
   "pygments_lexer": "ipython3",
   "version": "3.8.10"
  },
  "orig_nbformat": 4
 },
 "nbformat": 4,
 "nbformat_minor": 2
}
