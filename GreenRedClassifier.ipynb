{
 "cells": [
  {
   "cell_type": "markdown",
   "metadata": {},
   "source": [
    "## Red Pass Green Pass Classifier\n",
    "\n",
    "Model training, using CNN, with Tensorflow Keras"
   ]
  },
  {
   "cell_type": "code",
   "execution_count": null,
   "metadata": {},
   "outputs": [],
   "source": [
    "import os \n",
    "import random\n",
    "import cv2\n",
    "import numpy as np\n",
    "from sklearn.model_selection import train_test_split\n",
    "import tensorflow as tf\n",
    "from tensorflow.keras import datasets, layers, models\n",
    "# from keras.callbacks import EarlyStopping"
   ]
  },
  {
   "cell_type": "code",
   "execution_count": null,
   "metadata": {},
   "outputs": [],
   "source": [
    "os.environ['CUDA_VISIBLE_DEVICES'] = '-1'\n",
    "\n",
    "if tf.test.gpu_device_name():\n",
    "    print('GPU found')\n",
    "else:\n",
    "    print(\"No GPU found\")"
   ]
  },
  {
   "cell_type": "code",
   "execution_count": null,
   "metadata": {},
   "outputs": [],
   "source": [
    "from tensorflow.python.client import device_lib\n",
    "print(device_lib.list_local_devices())"
   ]
  },
  {
   "cell_type": "markdown",
   "metadata": {},
   "source": [
    "### Loading of All Images in a Folder"
   ]
  },
  {
   "cell_type": "code",
   "execution_count": null,
   "metadata": {},
   "outputs": [],
   "source": [
    "# Reads in images as long as of image format\n",
    "def load_images_from_folder(folder):\n",
    "    images = []\n",
    "    filenames = []\n",
    "    for filename in os.listdir(folder):\n",
    "        img = cv2.imread(os.path.join(folder,filename))\n",
    "        if img is not None:\n",
    "            images.append(img)\n",
    "            filenames.append(filename)\n",
    "    return (images, filenames)"
   ]
  },
  {
   "cell_type": "markdown",
   "metadata": {},
   "source": [
    "### Training the CNN model"
   ]
  },
  {
   "cell_type": "code",
   "execution_count": null,
   "metadata": {},
   "outputs": [],
   "source": [
    "# Train the Model\n",
    "def train_red_green_model(processed_green_path, processed_red_path):\n",
    "    positive_samples = load_images_from_folder(processed_green_path)\n",
    "    negative_samples = load_images_from_folder(processed_red_path)\n",
    "    image_size = positive_samples[0][0].shape\n",
    "    print('Image Dimensions: ' + str(image_size))\n",
    "    image_height = image_size[0]\n",
    "    image_width = image_size[1]\n",
    "    image_colour = image_size[2]\n",
    "    print('Number of positive sampels: ' + str(len(positive_samples[0])))\n",
    "    print('Number of negative sampels: ' + str(len(negative_samples[0])))\n",
    "\n",
    "    # 0 = Red, 1 = Green\n",
    "    # Can look at divding the RGB value by 255 here to fit values between 0 and 1\n",
    "    training_data = []\n",
    "    for sample in positive_samples[0]:\n",
    "        training_data.append([sample, 1])\n",
    "    for sample in negative_samples[0]:\n",
    "        training_data.append([sample, 0])\n",
    "\n",
    "    # Shuffle training data to ensure better results\n",
    "    random.shuffle(training_data)\n",
    "\n",
    "    X = [] # All Training Data\n",
    "    y = [] # All Labels\n",
    "    for image, label in training_data:\n",
    "        X.append(image)\n",
    "        y.append(label)\n",
    "\n",
    "    # Convert into numpy array\n",
    "    X = np.array(X).reshape(-1, image_height, image_width, 3)\n",
    "    # Split into training and testing sets\n",
    "    X_train, X_test, y_train, y_test = train_test_split(X, y, test_size=0.1)\n",
    "\n",
    "    # Format into np.array type as Keras model does not accept other types\n",
    "    X_train = np.array(X_train)\n",
    "    X_test = np.array(X_test)\n",
    "    y_train = np.array(y_train)\n",
    "    y_test = np.array(y_test)\n",
    "\n",
    "    # CNN Model\n",
    "    model = models.Sequential()\n",
    "    model.add(layers.Conv2D(32, (3,3), activation='relu', input_shape=(image_height, image_width, image_colour)))\n",
    "    model.add(layers.MaxPooling2D((2,2)))\n",
    "    model.add(layers.Conv2D(64, (3,3), activation='relu'))\n",
    "    model.add(layers.MaxPooling2D((2,2)))\n",
    "    model.add(layers.Conv2D(64, (3,3), activation='relu'))\n",
    "    model.add(layers.Flatten())\n",
    "    model.add(layers.Dense(64, activation='relu'))\n",
    "    model.add(layers.Dense(2, activation='softmax'))\n",
    "\n",
    "    model.compile(optimizer='adam', loss='sparse_categorical_crossentropy', metrics=['accuracy'])\n",
    "\n",
    "    # Need to look at early stopping\n",
    "    model.fit(X_train, y_train, epochs=10, batch_size=1, validation_data=(X_test, y_test))\n",
    "\n",
    "    loss, accuracy = model.evaluate(X_test, y_test)\n",
    "    print('Loss: ' + str(loss) + '    ' + 'Accuracy: ' + str(accuracy))\n",
    "\n",
    "    # Save the model\n",
    "    # model.save('GreenRedClassifier.model')\n",
    "    print('Model Trained and Saved!')\n"
   ]
  },
  {
   "cell_type": "code",
   "execution_count": null,
   "metadata": {},
   "outputs": [],
   "source": [
    "# Images must have been already pre-processed with the \"ImageFormatter\" script before proceeding\n",
    "train_red_green_model(processed_green_path='./ProcessedImages/GreenPass', processed_red_path='./ProcessedImages/RedPass')"
   ]
  },
  {
   "cell_type": "markdown",
   "metadata": {},
   "source": []
  }
 ],
 "metadata": {
  "interpreter": {
   "hash": "21df0356f9123b9ffe2140fcee819cd2cf32077b8756437e0847ceff6279ac46"
  },
  "kernelspec": {
   "display_name": "Python 3.9.5 64-bit",
   "language": "python",
   "name": "python3"
  },
  "language_info": {
   "codemirror_mode": {
    "name": "ipython",
    "version": 3
   },
   "file_extension": ".py",
   "mimetype": "text/x-python",
   "name": "python",
   "nbconvert_exporter": "python",
   "pygments_lexer": "ipython3",
   "version": "3.9.5"
  },
  "orig_nbformat": 4
 },
 "nbformat": 4,
 "nbformat_minor": 2
}
