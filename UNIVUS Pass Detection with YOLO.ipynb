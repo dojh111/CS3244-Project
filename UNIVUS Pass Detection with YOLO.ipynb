{
 "cells": [
  {
   "cell_type": "code",
   "execution_count": 1,
   "id": "3a44b485",
   "metadata": {},
   "outputs": [],
   "source": [
    "import torch\n",
    "from matplotlib import pyplot as plt\n",
    "import numpy as np\n",
    "import cv2"
   ]
  },
  {
   "cell_type": "code",
   "execution_count": 2,
   "id": "b7113fa3",
   "metadata": {},
   "outputs": [],
   "source": [
    "def aggregate_velocity(change_rates):\n",
    "    if len(change_rates) == 0:\n",
    "        return\n",
    "    total_change = 0\n",
    "    isFirst = True\n",
    "    for rate in change_rates:\n",
    "        if isFirst:\n",
    "            isFirst = False\n",
    "            continue\n",
    "        total_change += rate\n",
    "    return total_change/len(change_rates)\n",
    "\n",
    "def aggregate_direction(directions):\n",
    "    horizontal_count = 0\n",
    "    vertical_count = 0\n",
    "    static_count = 0\n",
    "    no_direction = 0\n",
    "    for direction in directions:\n",
    "        if direction == 'Horizontal':\n",
    "            horizontal_count += 1\n",
    "        elif direction == 'Vertical':\n",
    "            vertical_count += 1\n",
    "        elif direction == 'Static':\n",
    "            static_count += 1\n",
    "        else:\n",
    "            no_direction += 1\n",
    "#     print(horizontal_count)\n",
    "#     print(vertical_count)\n",
    "#     print(no_direction)\n",
    "    if static_count > horizontal_count and static_count > vertical_count:\n",
    "        return 'Static'\n",
    "    if no_direction > horizontal_count and no_direction > vertical_count:\n",
    "        return 'No Logo Detectable'\n",
    "    if horizontal_count > vertical_count:\n",
    "        return 'Horizontal'\n",
    "    return 'Vertical'\n",
    "\n",
    "def get_logo_speed(velocity):\n",
    "    if velocity == None:\n",
    "        return 'No Speed'\n",
    "    if velocity < 10:\n",
    "        return 'Normal Speed'\n",
    "    else:\n",
    "        return 'Abnormal Fast'"
   ]
  },
  {
   "cell_type": "code",
   "execution_count": 3,
   "id": "c4e72951",
   "metadata": {},
   "outputs": [],
   "source": [
    "def load_logo_detection_yolo_model(model_path):\n",
    "    model = torch.hub.load('ultralytics/yolov5', 'custom', path=model_path, force_reload=True)\n",
    "    return model"
   ]
  },
  {
   "cell_type": "code",
   "execution_count": 4,
   "id": "04b1b303",
   "metadata": {},
   "outputs": [],
   "source": [
    "# Calculate speed and direction coordinates\n",
    "def calculate_direction(coordinates, prev_X, prev_Y):\n",
    "    movement = ''\n",
    "    rate_of_change = ''\n",
    "    # print('x = ' + str(coordinates[0][0]) + ' ' + 'y = ' + str(coordinates[0][1]))\n",
    "    # Focus on a single logo\n",
    "    newX = coordinates[0][0]\n",
    "    newY = coordinates[0][1]\n",
    "    change_in_position_x = abs(newX - prev_X)\n",
    "    change_in_position_y = abs(newY - prev_Y)\n",
    "    if change_in_position_x < 1 and change_in_position_y < 1:\n",
    "        movement = 'Static'\n",
    "        rate_of_change = 0\n",
    "    elif change_in_position_y < change_in_position_x:\n",
    "        movement = 'Horizontal'\n",
    "        rate_of_change = change_in_position_x\n",
    "    else:\n",
    "        movement = 'Vertical'\n",
    "        rate_of_change = change_in_position_y\n",
    "    if rate_of_change > 100:\n",
    "        rate_of_change /= 100\n",
    "    return newX, newY, movement, rate_of_change"
   ]
  },
  {
   "cell_type": "code",
   "execution_count": 5,
   "id": "237ac21a",
   "metadata": {},
   "outputs": [],
   "source": [
    "def predict_speed_direction(model, video_path):\n",
    "    cap = cv2.VideoCapture(video_path)\n",
    "    total_movement_sets = 10\n",
    "    frame_limit = 5\n",
    "    previous_x = 0\n",
    "    previous_y = 0\n",
    "    movement_sets = 0\n",
    "    frame_count = 0\n",
    "    change_rates = []\n",
    "    directions = []\n",
    "    while cap.isOpened() and movement_sets < total_movement_sets:\n",
    "        ret, frame = cap.read()\n",
    "        # Make Detections\n",
    "        results = model(frame)\n",
    "#         cv2.imshow('YOLO', np.squeeze(results.render()))\n",
    "        if frame_count == frame_limit:\n",
    "            # xyxy = xmin, ymin, xmax, ymax, confidence, class\n",
    "            coordinates = results.xyxy[0]\n",
    "            detections = len(coordinates)\n",
    "            if detections != 0:\n",
    "                newX, newY, direction, change_rate = calculate_direction(coordinates, previous_x, previous_y)\n",
    "                previous_x = newX\n",
    "                previous_y = newY\n",
    "                directions.append(direction)\n",
    "                change_rates.append(change_rate)\n",
    "            else:\n",
    "                print('Unable to Detect Images')\n",
    "                directions.append('NO IMAGE')\n",
    "            movement_sets += 1\n",
    "            frame_count = 0\n",
    "        frame_count += 1\n",
    "        # Exit loop\n",
    "        if cv2.waitKey(10) & 0xFF == ord('q'):\n",
    "            break\n",
    "    cap.release()\n",
    "    cv2.destroyAllWindows()\n",
    "    \n",
    "#     print(change_rates)\n",
    "#     print(directions)\n",
    "    \n",
    "    average_velocity = aggregate_velocity(change_rates)\n",
    "    predicted_direction = aggregate_direction(directions)\n",
    "    \n",
    "    return average_velocity, predicted_direction"
   ]
  },
  {
   "cell_type": "markdown",
   "id": "bd94475c",
   "metadata": {},
   "source": [
    "### Do Prediction on video"
   ]
  },
  {
   "cell_type": "code",
   "execution_count": 6,
   "id": "ca41c755",
   "metadata": {},
   "outputs": [
    {
     "name": "stderr",
     "output_type": "stream",
     "text": [
      "Downloading: \"https://github.com/ultralytics/yolov5/archive/master.zip\" to C:\\Users\\dojh1/.cache\\torch\\hub\\master.zip\n",
      "YOLOv5  2022-4-3 torch 1.8.2+cu111 CUDA:0 (NVIDIA GeForce GTX 1060 3GB, 3072MiB)\n",
      "\n",
      "Fusing layers... \n",
      "Model summary: 213 layers, 7055974 parameters, 0 gradients, 15.9 GFLOPs\n",
      "Adding AutoShape... \n"
     ]
    }
   ],
   "source": [
    "yolo_model = load_logo_detection_yolo_model('./TrainedYoloModel/best3.pt')"
   ]
  },
  {
   "cell_type": "code",
   "execution_count": 10,
   "id": "0563529c",
   "metadata": {},
   "outputs": [
    {
     "name": "stdout",
     "output_type": "stream",
     "text": [
      "-----------------------------------\n",
      "Rate of Change: tensor(4.52617, device='cuda:0')\n",
      "Normal Speed\n",
      "Movement Direction: Vertical\n"
     ]
    }
   ],
   "source": [
    "velocity, direction = predict_speed_direction(yolo_model, './Videos/IMG_5531.mp4')\n",
    "speed_rating = get_logo_speed(velocity)\n",
    "\n",
    "print('-----------------------------------')\n",
    "print('Rate of Change: ' + str(velocity))\n",
    "print(speed_rating)\n",
    "print('Movement Direction: ' + direction)"
   ]
  },
  {
   "cell_type": "code",
   "execution_count": null,
   "id": "f2939cf1",
   "metadata": {},
   "outputs": [],
   "source": []
  }
 ],
 "metadata": {
  "kernelspec": {
   "display_name": "Python 3 (ipykernel)",
   "language": "python",
   "name": "python3"
  },
  "language_info": {
   "codemirror_mode": {
    "name": "ipython",
    "version": 3
   },
   "file_extension": ".py",
   "mimetype": "text/x-python",
   "name": "python",
   "nbconvert_exporter": "python",
   "pygments_lexer": "ipython3",
   "version": "3.9.5"
  }
 },
 "nbformat": 4,
 "nbformat_minor": 5
}
